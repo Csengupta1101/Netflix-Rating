{
 "cells": [
  {
   "cell_type": "markdown",
   "id": "c651f47c",
   "metadata": {},
   "source": [
    "a. What is the Average rating of Netflix Movie.\n",
    "b. Is Avg Rating for Movies Higher than Avg Rating for TV Series.\n",
    "c. Are TV Series are more loved in comparison to Movies, If yes what\n",
    "is the Reason behind that.\n",
    "d. Does Having an ensemble cast have an impact on the popularity of\n",
    "the show.\n",
    "e. Does Audiences prefer a longer episode or a shorter episode, what\n",
    "is the scope of Short series?\n",
    "f. Apart from the United States, which other States are Huge Viewers\n",
    "of Netflix.\n",
    "g. Which Genre is having a bigger fan following\n",
    "h. Compare the Ratings with respect to the release year of the show.\n",
    "i. Try to Analyze the Recipe of making a Huge Hit TV Show or Movie\n",
    "in Netflix"
   ]
  },
  {
   "cell_type": "code",
   "execution_count": 1,
   "id": "9b7ebd55",
   "metadata": {},
   "outputs": [],
   "source": [
    "import pandas as pd\n",
    "import numpy as np\n",
    "import matplotlib.pyplot as plt\n",
    "import seaborn as sns"
   ]
  },
  {
   "cell_type": "code",
   "execution_count": 2,
   "id": "b5f74d78",
   "metadata": {},
   "outputs": [],
   "source": [
    "data = pd.read_csv('netflix_titles.csv')"
   ]
  },
  {
   "cell_type": "code",
   "execution_count": 108,
   "id": "655fe442",
   "metadata": {},
   "outputs": [
    {
     "data": {
      "text/plain": [
       "(7787, 12)"
      ]
     },
     "execution_count": 108,
     "metadata": {},
     "output_type": "execute_result"
    }
   ],
   "source": [
    "data.shape"
   ]
  },
  {
   "cell_type": "code",
   "execution_count": 109,
   "id": "392bb292",
   "metadata": {},
   "outputs": [
    {
     "data": {
      "text/plain": [
       "Index(['show_id', 'type', 'title', 'director', 'cast', 'country', 'date_added',\n",
       "       'release_year', 'rating', 'duration', 'listed_in', 'description'],\n",
       "      dtype='object')"
      ]
     },
     "execution_count": 109,
     "metadata": {},
     "output_type": "execute_result"
    }
   ],
   "source": [
    "data.columns"
   ]
  },
  {
   "cell_type": "code",
   "execution_count": 110,
   "id": "a9b0651b",
   "metadata": {},
   "outputs": [
    {
     "data": {
      "text/html": [
       "<div>\n",
       "<style scoped>\n",
       "    .dataframe tbody tr th:only-of-type {\n",
       "        vertical-align: middle;\n",
       "    }\n",
       "\n",
       "    .dataframe tbody tr th {\n",
       "        vertical-align: top;\n",
       "    }\n",
       "\n",
       "    .dataframe thead th {\n",
       "        text-align: right;\n",
       "    }\n",
       "</style>\n",
       "<table border=\"1\" class=\"dataframe\">\n",
       "  <thead>\n",
       "    <tr style=\"text-align: right;\">\n",
       "      <th></th>\n",
       "      <th>show_id</th>\n",
       "      <th>type</th>\n",
       "      <th>title</th>\n",
       "      <th>director</th>\n",
       "      <th>cast</th>\n",
       "      <th>country</th>\n",
       "      <th>date_added</th>\n",
       "      <th>release_year</th>\n",
       "      <th>rating</th>\n",
       "      <th>duration</th>\n",
       "      <th>listed_in</th>\n",
       "      <th>description</th>\n",
       "    </tr>\n",
       "  </thead>\n",
       "  <tbody>\n",
       "    <tr>\n",
       "      <th>4577</th>\n",
       "      <td>s4578</td>\n",
       "      <td>Movie</td>\n",
       "      <td>Offering to the Storm</td>\n",
       "      <td>Fernando González Molina</td>\n",
       "      <td>Marta Etura, Leonardo Sbaraglia, Carlos Librad...</td>\n",
       "      <td>Spain, Germany</td>\n",
       "      <td>July 24, 2020</td>\n",
       "      <td>2020</td>\n",
       "      <td>TV-MA</td>\n",
       "      <td>140 min</td>\n",
       "      <td>International Movies, Thrillers</td>\n",
       "      <td>Amaia investigates several suspicious infant d...</td>\n",
       "    </tr>\n",
       "  </tbody>\n",
       "</table>\n",
       "</div>"
      ],
      "text/plain": [
       "     show_id   type                  title                  director  \\\n",
       "4577   s4578  Movie  Offering to the Storm  Fernando González Molina   \n",
       "\n",
       "                                                   cast         country  \\\n",
       "4577  Marta Etura, Leonardo Sbaraglia, Carlos Librad...  Spain, Germany   \n",
       "\n",
       "         date_added  release_year rating duration  \\\n",
       "4577  July 24, 2020          2020  TV-MA  140 min   \n",
       "\n",
       "                            listed_in  \\\n",
       "4577  International Movies, Thrillers   \n",
       "\n",
       "                                            description  \n",
       "4577  Amaia investigates several suspicious infant d...  "
      ]
     },
     "execution_count": 110,
     "metadata": {},
     "output_type": "execute_result"
    }
   ],
   "source": [
    "data.sample()"
   ]
  },
  {
   "cell_type": "code",
   "execution_count": 111,
   "id": "bda647ae",
   "metadata": {},
   "outputs": [
    {
     "data": {
      "text/html": [
       "<div>\n",
       "<style scoped>\n",
       "    .dataframe tbody tr th:only-of-type {\n",
       "        vertical-align: middle;\n",
       "    }\n",
       "\n",
       "    .dataframe tbody tr th {\n",
       "        vertical-align: top;\n",
       "    }\n",
       "\n",
       "    .dataframe thead th {\n",
       "        text-align: right;\n",
       "    }\n",
       "</style>\n",
       "<table border=\"1\" class=\"dataframe\">\n",
       "  <thead>\n",
       "    <tr style=\"text-align: right;\">\n",
       "      <th></th>\n",
       "      <th>show_id</th>\n",
       "      <th>type</th>\n",
       "      <th>title</th>\n",
       "      <th>director</th>\n",
       "      <th>cast</th>\n",
       "      <th>country</th>\n",
       "      <th>date_added</th>\n",
       "      <th>release_year</th>\n",
       "      <th>rating</th>\n",
       "      <th>duration</th>\n",
       "      <th>listed_in</th>\n",
       "      <th>description</th>\n",
       "    </tr>\n",
       "  </thead>\n",
       "  <tbody>\n",
       "    <tr>\n",
       "      <th>0</th>\n",
       "      <td>s1</td>\n",
       "      <td>TV Show</td>\n",
       "      <td>3%</td>\n",
       "      <td>NaN</td>\n",
       "      <td>João Miguel, Bianca Comparato, Michel Gomes, R...</td>\n",
       "      <td>Brazil</td>\n",
       "      <td>August 14, 2020</td>\n",
       "      <td>2020</td>\n",
       "      <td>TV-MA</td>\n",
       "      <td>4 Seasons</td>\n",
       "      <td>International TV Shows, TV Dramas, TV Sci-Fi &amp;...</td>\n",
       "      <td>In a future where the elite inhabit an island ...</td>\n",
       "    </tr>\n",
       "    <tr>\n",
       "      <th>1</th>\n",
       "      <td>s2</td>\n",
       "      <td>Movie</td>\n",
       "      <td>7:19</td>\n",
       "      <td>Jorge Michel Grau</td>\n",
       "      <td>Demián Bichir, Héctor Bonilla, Oscar Serrano, ...</td>\n",
       "      <td>Mexico</td>\n",
       "      <td>December 23, 2016</td>\n",
       "      <td>2016</td>\n",
       "      <td>TV-MA</td>\n",
       "      <td>93 min</td>\n",
       "      <td>Dramas, International Movies</td>\n",
       "      <td>After a devastating earthquake hits Mexico Cit...</td>\n",
       "    </tr>\n",
       "    <tr>\n",
       "      <th>2</th>\n",
       "      <td>s3</td>\n",
       "      <td>Movie</td>\n",
       "      <td>23:59</td>\n",
       "      <td>Gilbert Chan</td>\n",
       "      <td>Tedd Chan, Stella Chung, Henley Hii, Lawrence ...</td>\n",
       "      <td>Singapore</td>\n",
       "      <td>December 20, 2018</td>\n",
       "      <td>2011</td>\n",
       "      <td>R</td>\n",
       "      <td>78 min</td>\n",
       "      <td>Horror Movies, International Movies</td>\n",
       "      <td>When an army recruit is found dead, his fellow...</td>\n",
       "    </tr>\n",
       "    <tr>\n",
       "      <th>3</th>\n",
       "      <td>s4</td>\n",
       "      <td>Movie</td>\n",
       "      <td>9</td>\n",
       "      <td>Shane Acker</td>\n",
       "      <td>Elijah Wood, John C. Reilly, Jennifer Connelly...</td>\n",
       "      <td>United States</td>\n",
       "      <td>November 16, 2017</td>\n",
       "      <td>2009</td>\n",
       "      <td>PG-13</td>\n",
       "      <td>80 min</td>\n",
       "      <td>Action &amp; Adventure, Independent Movies, Sci-Fi...</td>\n",
       "      <td>In a postapocalyptic world, rag-doll robots hi...</td>\n",
       "    </tr>\n",
       "    <tr>\n",
       "      <th>4</th>\n",
       "      <td>s5</td>\n",
       "      <td>Movie</td>\n",
       "      <td>21</td>\n",
       "      <td>Robert Luketic</td>\n",
       "      <td>Jim Sturgess, Kevin Spacey, Kate Bosworth, Aar...</td>\n",
       "      <td>United States</td>\n",
       "      <td>January 1, 2020</td>\n",
       "      <td>2008</td>\n",
       "      <td>PG-13</td>\n",
       "      <td>123 min</td>\n",
       "      <td>Dramas</td>\n",
       "      <td>A brilliant group of students become card-coun...</td>\n",
       "    </tr>\n",
       "  </tbody>\n",
       "</table>\n",
       "</div>"
      ],
      "text/plain": [
       "  show_id     type  title           director  \\\n",
       "0      s1  TV Show     3%                NaN   \n",
       "1      s2    Movie   7:19  Jorge Michel Grau   \n",
       "2      s3    Movie  23:59       Gilbert Chan   \n",
       "3      s4    Movie      9        Shane Acker   \n",
       "4      s5    Movie     21     Robert Luketic   \n",
       "\n",
       "                                                cast        country  \\\n",
       "0  João Miguel, Bianca Comparato, Michel Gomes, R...         Brazil   \n",
       "1  Demián Bichir, Héctor Bonilla, Oscar Serrano, ...         Mexico   \n",
       "2  Tedd Chan, Stella Chung, Henley Hii, Lawrence ...      Singapore   \n",
       "3  Elijah Wood, John C. Reilly, Jennifer Connelly...  United States   \n",
       "4  Jim Sturgess, Kevin Spacey, Kate Bosworth, Aar...  United States   \n",
       "\n",
       "          date_added  release_year rating   duration  \\\n",
       "0    August 14, 2020          2020  TV-MA  4 Seasons   \n",
       "1  December 23, 2016          2016  TV-MA     93 min   \n",
       "2  December 20, 2018          2011      R     78 min   \n",
       "3  November 16, 2017          2009  PG-13     80 min   \n",
       "4    January 1, 2020          2008  PG-13    123 min   \n",
       "\n",
       "                                           listed_in  \\\n",
       "0  International TV Shows, TV Dramas, TV Sci-Fi &...   \n",
       "1                       Dramas, International Movies   \n",
       "2                Horror Movies, International Movies   \n",
       "3  Action & Adventure, Independent Movies, Sci-Fi...   \n",
       "4                                             Dramas   \n",
       "\n",
       "                                         description  \n",
       "0  In a future where the elite inhabit an island ...  \n",
       "1  After a devastating earthquake hits Mexico Cit...  \n",
       "2  When an army recruit is found dead, his fellow...  \n",
       "3  In a postapocalyptic world, rag-doll robots hi...  \n",
       "4  A brilliant group of students become card-coun...  "
      ]
     },
     "execution_count": 111,
     "metadata": {},
     "output_type": "execute_result"
    }
   ],
   "source": [
    "data.head()"
   ]
  },
  {
   "cell_type": "code",
   "execution_count": 112,
   "id": "26d1bccb",
   "metadata": {},
   "outputs": [
    {
     "name": "stdout",
     "output_type": "stream",
     "text": [
      "<class 'pandas.core.frame.DataFrame'>\n",
      "RangeIndex: 7787 entries, 0 to 7786\n",
      "Data columns (total 12 columns):\n",
      " #   Column        Non-Null Count  Dtype \n",
      "---  ------        --------------  ----- \n",
      " 0   show_id       7787 non-null   object\n",
      " 1   type          7787 non-null   object\n",
      " 2   title         7787 non-null   object\n",
      " 3   director      5398 non-null   object\n",
      " 4   cast          7069 non-null   object\n",
      " 5   country       7280 non-null   object\n",
      " 6   date_added    7777 non-null   object\n",
      " 7   release_year  7787 non-null   int64 \n",
      " 8   rating        7780 non-null   object\n",
      " 9   duration      7787 non-null   object\n",
      " 10  listed_in     7787 non-null   object\n",
      " 11  description   7787 non-null   object\n",
      "dtypes: int64(1), object(11)\n",
      "memory usage: 730.2+ KB\n"
     ]
    }
   ],
   "source": [
    "data.info()"
   ]
  },
  {
   "cell_type": "code",
   "execution_count": 113,
   "id": "a2e9621c",
   "metadata": {},
   "outputs": [
    {
     "data": {
      "text/plain": [
       "show_id            0\n",
       "type               0\n",
       "title              0\n",
       "director        2389\n",
       "cast             718\n",
       "country          507\n",
       "date_added        10\n",
       "release_year       0\n",
       "rating             7\n",
       "duration           0\n",
       "listed_in          0\n",
       "description        0\n",
       "dtype: int64"
      ]
     },
     "execution_count": 113,
     "metadata": {},
     "output_type": "execute_result"
    }
   ],
   "source": [
    "data.isnull().sum()"
   ]
  },
  {
   "cell_type": "code",
   "execution_count": 114,
   "id": "0dc1c6d5",
   "metadata": {},
   "outputs": [
    {
     "data": {
      "text/plain": [
       "show_id          0.00\n",
       "type             0.00\n",
       "title            0.00\n",
       "director        30.68\n",
       "cast             9.22\n",
       "country          6.51\n",
       "date_added       0.13\n",
       "release_year     0.00\n",
       "rating           0.09\n",
       "duration         0.00\n",
       "listed_in        0.00\n",
       "description      0.00\n",
       "dtype: float64"
      ]
     },
     "execution_count": 114,
     "metadata": {},
     "output_type": "execute_result"
    }
   ],
   "source": [
    "round(100*(data.isnull().sum()/len(data.index)),2)"
   ]
  },
  {
   "cell_type": "code",
   "execution_count": 115,
   "id": "0b61d480",
   "metadata": {},
   "outputs": [],
   "source": [
    "data['rating'] = data['rating'].fillna(data['rating'].mode()[0])\n",
    "data['country'] = data['country'].fillna(data['country'].mode()[0])\n",
    "data['cast'] = data['cast'].fillna(data['cast'].mode()[0])\n",
    "data['date_added'] = data['date_added'].fillna(data['date_added'].mode()[0])\n",
    "data = data.drop(['director'],axis=1)"
   ]
  },
  {
   "cell_type": "code",
   "execution_count": 116,
   "id": "f8af0848",
   "metadata": {},
   "outputs": [
    {
     "data": {
      "text/plain": [
       "show_id         0.0\n",
       "type            0.0\n",
       "title           0.0\n",
       "cast            0.0\n",
       "country         0.0\n",
       "date_added      0.0\n",
       "release_year    0.0\n",
       "rating          0.0\n",
       "duration        0.0\n",
       "listed_in       0.0\n",
       "description     0.0\n",
       "dtype: float64"
      ]
     },
     "execution_count": 116,
     "metadata": {},
     "output_type": "execute_result"
    }
   ],
   "source": [
    "round(100*(data.isnull().sum()/len(data.index)),2)"
   ]
  },
  {
   "cell_type": "code",
   "execution_count": 144,
   "id": "7784b6a5",
   "metadata": {},
   "outputs": [
    {
     "data": {
      "image/png": "[encoded data removed]",
      "text/plain": [
       "<Figure size 432x288 with 1 Axes>"
      ]
     },
     "metadata": {
      "needs_background": "light"
     },
     "output_type": "display_data"
    }
   ],
   "source": [
    "#average rating of netflix movie\n",
    "#bivariate analysis\n",
    "#two categorical columns\n",
    "\n",
    "pd.crosstab(data['type'],data['rating']).plot(kind = 'bar' , stacked = False)\n",
    "plt.show()\n",
    "\n",
    "\n",
    "#The average rating of a netflix movie is 'TV-MA'\n",
    "#The average rating of a netflix movie is higher than avergae rating for a TV-series"
   ]
  },
  {
   "cell_type": "code",
   "execution_count": 118,
   "id": "a94a1e27",
   "metadata": {},
   "outputs": [
    {
     "data": {
      "text/plain": [
       "Documentaries                                       334\n",
       "Stand-Up Comedy                                     321\n",
       "Dramas, International Movies                        320\n",
       "Comedies, Dramas, International Movies              243\n",
       "Dramas, Independent Movies, International Movies    215\n",
       "                                                   ... \n",
       "Children & Family Movies, Comedies, Cult Movies       1\n",
       "International Movies, Romantic Movies, Thrillers      1\n",
       "Classic Movies, Comedies, Sports Movies               1\n",
       "Children & Family Movies, Comedies, LGBTQ Movies      1\n",
       "Comedies, Romantic Movies, Sports Movies              1\n",
       "Name: listed_in, Length: 265, dtype: int64"
      ]
     },
     "execution_count": 118,
     "metadata": {},
     "output_type": "execute_result"
    }
   ],
   "source": [
    "# More likelyness of tv series or movies in the audience and the reason\n",
    "\n",
    "movies = data[(data['type']=='Movie')]\n",
    "tv = data[(data['type']=='TV Show')]\n",
    "movies['listed_in'].value_counts()\n",
    "\n",
    "#documentary genre has the biggest fan following"
   ]
  },
  {
   "cell_type": "code",
   "execution_count": 119,
   "id": "31a2f386",
   "metadata": {},
   "outputs": [
    {
     "data": {
      "text/plain": [
       "Kids' TV                                                205\n",
       "International TV Shows, TV Dramas                       111\n",
       "Crime TV Shows, International TV Shows, TV Dramas       106\n",
       "Kids' TV, TV Comedies                                    90\n",
       "International TV Shows, Romantic TV Shows, TV Dramas     86\n",
       "                                                       ... \n",
       "TV Horror, TV Mysteries, Teen TV Shows                    1\n",
       "Reality TV, TV Horror, TV Thrillers                       1\n",
       "Romantic TV Shows, TV Dramas, Teen TV Shows               1\n",
       "Crime TV Shows, TV Dramas, TV Horror                      1\n",
       "TV Comedies, TV Mysteries                                 1\n",
       "Name: listed_in, Length: 227, dtype: int64"
      ]
     },
     "execution_count": 119,
     "metadata": {},
     "output_type": "execute_result"
    }
   ],
   "source": [
    "tv['listed_in'].value_counts()"
   ]
  },
  {
   "cell_type": "code",
   "execution_count": 120,
   "id": "48ed4458",
   "metadata": {},
   "outputs": [
    {
     "data": {
      "text/plain": [
       "David Attenborough                                                                                                                                                              431\n",
       "Samuel West                                                                                                                                                                      10\n",
       "Jeff Dunham                                                                                                                                                                       7\n",
       "Craig Sechler                                                                                                                                                                     6\n",
       "Kevin Hart                                                                                                                                                                        6\n",
       "                                                                                                                                                                               ... \n",
       "Lau Ching Wan, Carman Lee, Tsung-Hua To, Chung-wai Lee, Ruby Wong                                                                                                                 1\n",
       "Will Smith, Eva Mendes, Kevin James, Amber Valletta, Julie Ann Emery, Adam Arkin, Robinne Lee, Nathan Lee Graham, Michael Rapaport, Jeffrey Donovan                               1\n",
       "Sayani Gupta, Lin Laishram, Tenzing Dalha, Dolly Ahluwalia, Vinay Pathak, Lanuakam Ao, Rohan Joshi, Adil Hussain, Asenla Jamir                                                    1\n",
       "Michelle Yeoh, Donnie Yen, Harry Shum Jr., Natasha Liu Bordizzo, Jason Scott Lee, Eugenia Yuan, Roger Yuan, Juju Chan, Chris Pang, Woon Young Park, Darryl Quon                   1\n",
       "Abhishek Bachchan, Hrishitaa Bhatt, Amrish Puri, Mohnish Bahl, Helen, Om Puri, Ashish Vidyarthi, A.K. Hangal, Tinnu Anand, Daisy Irani, Dara Singh, Viju Khote, Shubha Khote      1\n",
       "Name: cast, Length: 4780, dtype: int64"
      ]
     },
     "execution_count": 120,
     "metadata": {},
     "output_type": "execute_result"
    }
   ],
   "source": [
    "movies['cast'].value_counts()"
   ]
  },
  {
   "cell_type": "code",
   "execution_count": 121,
   "id": "cd09c6ef",
   "metadata": {},
   "outputs": [
    {
     "data": {
      "text/plain": [
       "David Attenborough                                                                                                                                                          305\n",
       "Michela Luci, Jamie Watson, Anna Claire Bartlam, Dante Zee, Eric Peterson                                                                                                     4\n",
       "Bettany Hughes                                                                                                                                                                2\n",
       "Anitta                                                                                                                                                                        2\n",
       "Nicholas Day                                                                                                                                                                  2\n",
       "                                                                                                                                                                           ... \n",
       "Morgan Spector, Alyssa Sutherland, Gus Birney, Danica Curcic, Okezie Morro, Luke Cosgrove, Darren Pettie, Russell Posner, Frances Conroy, Dan Butler, Isiah Whitlock Jr.      1\n",
       "Donghyun Kim, Nahyun, Yang Hak Jin, Yoon Hwa Hong                                                                                                                             1\n",
       "Kerry Washington, Columbus Short, Darby Stanchfield, Katie Lowes, Guillermo Díaz, Joshua Malina, Jeff Perry, Bellamy Young, Tony Goldwyn, Scott Foley                         1\n",
       "Lee Tockar, Sam Vincent, Alessandro Juliani, Tabitha St. Germain, Kathleen Barr, Viv Leacock, Shannon Chan-Kent, Vincent Tong                                                 1\n",
       "Harry Enfield, Haydn Gwynne, Hugh Skinner, Louise Ford, Richard Goulding, Matthew Cottle, Morgana Robinson, Celeste Dring, Katy Wix, Ellie White                              1\n",
       "Name: cast, Length: 2082, dtype: int64"
      ]
     },
     "execution_count": 121,
     "metadata": {},
     "output_type": "execute_result"
    }
   ],
   "source": [
    "tv['cast'].value_counts()"
   ]
  },
  {
   "cell_type": "code",
   "execution_count": 122,
   "id": "583cf52a",
   "metadata": {},
   "outputs": [],
   "source": [
    "#Movies are more loved than Tv series.\n",
    "#The reason being the love of audience towards 'documentaries' which is way more in popularity\n",
    "#Presence of David Attenborough  has a huge impact on the popularity of the tv shows and the movies\n",
    "#David Attenborough  present in 431 movies and 305 tv shows"
   ]
  },
  {
   "cell_type": "code",
   "execution_count": 123,
   "id": "f91fb348",
   "metadata": {},
   "outputs": [
    {
     "data": {
      "text/plain": [
       "0    1 Season\n",
       "dtype: object"
      ]
     },
     "execution_count": 123,
     "metadata": {},
     "output_type": "execute_result"
    }
   ],
   "source": [
    "tv['duration'].mode()"
   ]
  },
  {
   "cell_type": "code",
   "execution_count": 124,
   "id": "36b17557",
   "metadata": {},
   "outputs": [
    {
     "data": {
      "text/plain": [
       "0    90 min\n",
       "dtype: object"
      ]
     },
     "execution_count": 124,
     "metadata": {},
     "output_type": "execute_result"
    }
   ],
   "source": [
    "movies['duration'].mode()"
   ]
  },
  {
   "cell_type": "code",
   "execution_count": 125,
   "id": "13dd5dbf",
   "metadata": {},
   "outputs": [
    {
     "data": {
      "text/plain": [
       "'1 Season'"
      ]
     },
     "execution_count": 125,
     "metadata": {},
     "output_type": "execute_result"
    }
   ],
   "source": [
    "tv['duration'].min()"
   ]
  },
  {
   "cell_type": "code",
   "execution_count": 126,
   "id": "cd644fa2",
   "metadata": {},
   "outputs": [
    {
     "data": {
      "text/plain": [
       "'9 Seasons'"
      ]
     },
     "execution_count": 126,
     "metadata": {},
     "output_type": "execute_result"
    }
   ],
   "source": [
    "tv['duration'].max()"
   ]
  },
  {
   "cell_type": "code",
   "execution_count": 127,
   "id": "fe934660",
   "metadata": {},
   "outputs": [
    {
     "data": {
      "text/plain": [
       "'10 min'"
      ]
     },
     "execution_count": 127,
     "metadata": {},
     "output_type": "execute_result"
    }
   ],
   "source": [
    "movies['duration'].min()"
   ]
  },
  {
   "cell_type": "code",
   "execution_count": 128,
   "id": "0a8db315",
   "metadata": {},
   "outputs": [
    {
     "data": {
      "text/plain": [
       "'99 min'"
      ]
     },
     "execution_count": 128,
     "metadata": {},
     "output_type": "execute_result"
    }
   ],
   "source": [
    "movies['duration'].max()"
   ]
  },
  {
   "cell_type": "code",
   "execution_count": 129,
   "id": "4e162096",
   "metadata": {},
   "outputs": [
    {
     "data": {
      "text/plain": [
       "90 min     136\n",
       "93 min     131\n",
       "91 min     125\n",
       "94 min     125\n",
       "95 min     119\n",
       "          ... \n",
       "186 min      1\n",
       "228 min      1\n",
       "208 min      1\n",
       "230 min      1\n",
       "214 min      1\n",
       "Name: duration, Length: 201, dtype: int64"
      ]
     },
     "execution_count": 129,
     "metadata": {},
     "output_type": "execute_result"
    }
   ],
   "source": [
    "movies['duration'].value_counts()"
   ]
  },
  {
   "cell_type": "code",
   "execution_count": 138,
   "id": "d1453e60",
   "metadata": {},
   "outputs": [
    {
     "data": {
      "text/plain": [
       "A surly septuagenarian gets another chance at her 20s after having her photo snapped at a studio that magically takes 50 years off her life.                 3\n",
       "Multiple women report their husbands as missing but when it appears they are looking for the same man, a police officer traces their cryptic connection.     3\n",
       "Secrets bubble to the surface after a sensual encounter and an unforeseen crime entangle two friends and a woman caught between them.                        2\n",
       "As a woman scours Hyderabad for her missing husband, she becomes entangled in a conspiracy that suggests there’s more to the mystery than meets the eye.     2\n",
       "As a blind librarian, dispirited cricketer and desolate psychiatrist each seek retribution and release, their lives overlap under eerie influences.          2\n",
       "                                                                                                                                                            ..\n",
       "A lawyer is caught in a terrifying game of cat and mouse when a drink with an old friend escalates into an obsession that jeopardizes everyone she loves.    1\n",
       "When his prized bicycle is stolen, an astrologer’s search turns into a journey of self-realization — while the thieves learn a few lessons of their own.     1\n",
       "Held hostage by men searching for a secret her late husband left behind, a recent widow and her family race against time to find a way out.                  1\n",
       "After a mix-up lands him in hot water, a skilled pickpocket is forced to help a no-nonsense CIA operative track a terrorist group in Paris.                  1\n",
       "When the king of Brittania dies, the dragon who shares his heart must find a new ruler, but the monarch's grandchildren go to war over the throne.           1\n",
       "Name: description, Length: 7769, dtype: int64"
      ]
     },
     "execution_count": 138,
     "metadata": {},
     "output_type": "execute_result"
    }
   ],
   "source": [
    "data['description'].value_counts()\n"
   ]
  },
  {
   "cell_type": "code",
   "execution_count": 139,
   "id": "a65524ae",
   "metadata": {},
   "outputs": [],
   "source": [
    "#Hit show recipe -\n",
    "#Use David Attenborough  as broadcaster \n",
    "#Make the show a documentary  \n",
    "#limit the timeframe within 90 minutes\n",
    "#Inclusion of husband wife and mysterious affairs surrounding them , would be great if inspired from real life events as documentaries are required."
   ]
  },
  {
   "cell_type": "code",
   "execution_count": 148,
   "id": "5c1a5359",
   "metadata": {},
   "outputs": [
    {
     "data": {
      "text/plain": [
       "United States                                                          3062\n",
       "India                                                                   923\n",
       "United Kingdom                                                          397\n",
       "Japan                                                                   226\n",
       "South Korea                                                             183\n",
       "                                                                       ... \n",
       "United States, France, Canada, Lebanon, Qatar                             1\n",
       "United Kingdom, Canada, Japan                                             1\n",
       "China, United Kingdom                                                     1\n",
       "United Kingdom, United States, Germany, Denmark, Belgium, Japan           1\n",
       "Israel, Germany, Poland, Luxembourg, Belgium, France, United States       1\n",
       "Name: country, Length: 681, dtype: int64"
      ]
     },
     "execution_count": 148,
     "metadata": {},
     "output_type": "execute_result"
    }
   ],
   "source": [
    "data['country'].value_counts()\n",
    "\n",
    "#best viewership followed by USA would be India , UK , Japan"
   ]
  },
  {
   "cell_type": "code",
   "execution_count": null,
   "id": "9b3f1f59",
   "metadata": {},
   "outputs": [],
   "source": []
  },
  {
   "cell_type": "code",
   "execution_count": null,
   "id": "a734a43e",
   "metadata": {},
   "outputs": [],
   "source": []
  }
 ],
 "metadata": {
  "kernelspec": {
   "display_name": "Python 3",
   "language": "python",
   "name": "python3"
  },
  "language_info": {
   "codemirror_mode": {
    "name": "ipython",
    "version": 3
   },
   "file_extension": ".py",
   "mimetype": "text/x-python",
   "name": "python",
   "nbconvert_exporter": "python",
   "pygments_lexer": "ipython3",
   "version": "3.6.8"
  }
 },
 "nbformat": 4,
 "nbformat_minor": 5
}
